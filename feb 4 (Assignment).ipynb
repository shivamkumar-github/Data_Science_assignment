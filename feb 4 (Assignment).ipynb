{
 "cells": [
  {
   "cell_type": "markdown",
   "id": "b7dda1f5-669e-4252-98dd-0626ac2591e3",
   "metadata": {},
   "source": [
    "### Q1. Create a python program to sort the given list of tuples based on integer value using a lambda function.\n",
    "[('Sachin Tendulkar', 34357), ('Ricky Ponting', 27483), ('Jack Kallis', 25534), ('Virat Kohli', 24936)]"
   ]
  },
  {
   "cell_type": "code",
   "execution_count": 11,
   "id": "efa9298a-e908-4ee8-9787-308932227183",
   "metadata": {},
   "outputs": [
    {
     "data": {
      "text/plain": [
       "[('Virat Kohli', 24936),\n",
       " ('Jack Kallis', 25534),\n",
       " ('Ricky Ponting', 27483),\n",
       " ('Sachin Tendulkar', 34357)]"
      ]
     },
     "execution_count": 11,
     "metadata": {},
     "output_type": "execute_result"
    }
   ],
   "source": [
    "l1 = [('Sachin Tendulkar', 34357), ('Ricky Ponting', 27483), ('Jack Kallis', 25534), ('Virat Kohli', 24936)]\n",
    "sorted(l1, key = lambda x : x[1])"
   ]
  },
  {
   "cell_type": "markdown",
   "id": "7c39e77e-696a-46f5-8a3a-416a7ad799ae",
   "metadata": {},
   "source": [
    "### Q2. Write a Python Program to find the squares of all the numbers in the given list of integers using lambda and map functions. [1, 2, 3, 4, 5, 6, 7, 8, 9, 10]"
   ]
  },
  {
   "cell_type": "code",
   "execution_count": 14,
   "id": "0a56756b-a11f-433b-8014-7d9c9777fef6",
   "metadata": {},
   "outputs": [
    {
     "data": {
      "text/plain": [
       "[1, 4, 9, 16, 25, 36, 49, 64, 81, 100]"
      ]
     },
     "execution_count": 14,
     "metadata": {},
     "output_type": "execute_result"
    }
   ],
   "source": [
    "l2 = [1,2,3,4,5,6,7,8,9,10]\n",
    "list(map(lambda x : x**2, l2))"
   ]
  },
  {
   "cell_type": "markdown",
   "id": "a8d05767-2a16-4a45-92a3-2b60d2d1af4b",
   "metadata": {},
   "source": [
    "### Q3. Write a python program to convert the given list of integers into a tuple of strings. Use map and lambda functions.   \n",
    "#### Given String: [1, 2, 3, 4, 5, 6, 7, 8, 9, 10]  \n",
    "#### Expected output: ('1', '2', '3', '4', '5', '6', '7', '8', '9', '10')"
   ]
  },
  {
   "cell_type": "code",
   "execution_count": 24,
   "id": "78961e33-a321-46d6-953f-ce5ad68ece0b",
   "metadata": {},
   "outputs": [
    {
     "data": {
      "text/plain": [
       "('1', '2', '3', '4', '5', '6', '7', '8', '9')"
      ]
     },
     "execution_count": 24,
     "metadata": {},
     "output_type": "execute_result"
    }
   ],
   "source": [
    "l3 = [1,2,3,4,5,6,7,8,9]\n",
    "tuple(map(lambda x : str(x), l3))"
   ]
  },
  {
   "cell_type": "markdown",
   "id": "0845456e-e966-455b-aafa-d52bf934c161",
   "metadata": {},
   "source": [
    "### Q4. Write a python program using reduce function to compute the product of a list containing numbers from 1 to 25."
   ]
  },
  {
   "cell_type": "code",
   "execution_count": 30,
   "id": "8392d936-921d-4882-8f0b-3a7c8a504591",
   "metadata": {},
   "outputs": [
    {
     "data": {
      "text/plain": [
       "620448401733239439360000"
      ]
     },
     "execution_count": 30,
     "metadata": {},
     "output_type": "execute_result"
    }
   ],
   "source": [
    "from functools import reduce\n",
    "l4 = range(1,25)\n",
    "reduce(lambda x,y : x*y  , l4)"
   ]
  },
  {
   "cell_type": "markdown",
   "id": "c3fb1dc9-15df-46b0-8db8-04cae1a770e9",
   "metadata": {},
   "source": [
    "### Q5. Write a python program to filter the numbers in a given list that are divisible by 2 and 3 using the filter function.\n",
    "[2, 3, 6, 9, 27, 60, 90, 120, 55, 46]"
   ]
  },
  {
   "cell_type": "code",
   "execution_count": 33,
   "id": "4c7cb178-e57c-430d-9a60-7a9fdb3a04ba",
   "metadata": {},
   "outputs": [
    {
     "data": {
      "text/plain": [
       "[6, 60, 90, 120]"
      ]
     },
     "execution_count": 33,
     "metadata": {},
     "output_type": "execute_result"
    }
   ],
   "source": [
    "l5 = [2, 3, 6, 9, 27, 60, 90, 120, 55, 46]\n",
    "list(filter(lambda x : x%2 == 0 and x%3 == 0 , l5))"
   ]
  },
  {
   "cell_type": "markdown",
   "id": "d5d39fb6-db97-43c1-8626-44c2f06090d7",
   "metadata": {},
   "source": [
    "### Q6. Write a python program to find palindromes in the given list of strings using lambda and filter function.\n",
    "['python', 'php', 'aba', 'radar', 'level']"
   ]
  },
  {
   "cell_type": "code",
   "execution_count": null,
   "id": "04a57c6f-ba04-416a-8bee-678e880c327d",
   "metadata": {},
   "outputs": [],
   "source": [
    "filter(lambda x: )"
   ]
  }
 ],
 "metadata": {
  "kernelspec": {
   "display_name": "Python 3 (ipykernel)",
   "language": "python",
   "name": "python3"
  },
  "language_info": {
   "codemirror_mode": {
    "name": "ipython",
    "version": 3
   },
   "file_extension": ".py",
   "mimetype": "text/x-python",
   "name": "python",
   "nbconvert_exporter": "python",
   "pygments_lexer": "ipython3",
   "version": "3.10.8"
  }
 },
 "nbformat": 4,
 "nbformat_minor": 5
}
