{
 "cells": [
  {
   "cell_type": "markdown",
   "id": "a5cbeb6f-1644-4686-96a2-72a2c426119b",
   "metadata": {},
   "source": [
    "### 1. Write a program to accept percentage from the user and display the grade according to the following  criteria: \n"
   ]
  },
  {
   "cell_type": "code",
   "execution_count": null,
   "id": "49da58a4-1b6f-45a9-99ce-9da756d1cf90",
   "metadata": {},
   "outputs": [],
   "source": [
    "a = int(input(\"input your marks:\" ))\n",
    "if a > 90:\n",
    "    print(\"A grade\")\n",
    "elif a > 80 and a<= 90:\n",
    "    print(\"B grade\")\n",
    "elif a >= 60 and a<= 80:\n",
    "    print(\"C grade\")\n",
    "elif a < 60:\n",
    "    print(\"D grade\")\n",
    "else:\n",
    "    print(\"invalid input\")"
   ]
  },
  {
   "cell_type": "markdown",
   "id": "bb154745-9c84-4e19-a70c-abbdf0812043",
   "metadata": {},
   "source": [
    "### 2. Write a program to accept the cost price of a bike and display the road tax to be paid according to the following criteria:"
   ]
  },
  {
   "cell_type": "code",
   "execution_count": null,
   "id": "9c68cd24-d9a2-4433-92c3-6ace29b4ddc6",
   "metadata": {},
   "outputs": [
    {
     "name": "stdin",
     "output_type": "stream",
     "text": [
      "Enter your cost Price:  7\n"
     ]
    },
    {
     "name": "stdout",
     "output_type": "stream",
     "text": [
      "your tax is: 0.7\n"
     ]
    }
   ],
   "source": [
    "a = int(input(\"Enter your cost Price: \"))\n",
    "if a > 100000:\n",
    "    print(\"your tax is: \" + str((a*15)/100 ))\n",
    "elif a >50000 or a<= 100000:\n",
    "    print(\"your tax is: \" + str((a*10)/100))\n",
    "elif a <= 50000:\n",
    "    print(\"your tax is: \" + str((a*5)/100))\n",
    "else: \n",
    "    print(\"invalid input\")"
   ]
  },
  {
   "cell_type": "markdown",
   "id": "c73c65b5-aca9-40fa-850b-64c816376676",
   "metadata": {},
   "source": [
    "### 3. Accept any city from the user and display monuments of that city."
   ]
  },
  {
   "cell_type": "code",
   "execution_count": null,
   "id": "773e71ea-90f8-444e-ad57-e299e431b4e0",
   "metadata": {},
   "outputs": [
    {
     "name": "stdin",
     "output_type": "stream",
     "text": [
      "enter the name of your city:  Delhi\n"
     ]
    },
    {
     "name": "stdout",
     "output_type": "stream",
     "text": [
      "monument of your city is : red fort\n"
     ]
    }
   ],
   "source": [
    "a = str(input(\"enter the name of your city: \"))\n",
    "if a ==\"Delhi\":\n",
    "    print(\"monument of your city is : \" + \"Red Fort\")\n",
    "elif a == \"Agra\":\n",
    "    print(\"monument of your city is : \" + \"Taj Mahal\")\n",
    "elif a == \"Jaipur\":\n",
    "    print(\"monument of your city is : \" + \"Jal Mahal\")"
   ]
  },
  {
   "cell_type": "markdown",
   "id": "fa78cb48-fc5e-42c6-9d49-81db9c88805f",
   "metadata": {},
   "source": [
    "### 4. Check how many times a given number can be divided by 3 before it is less than or equal to 10."
   ]
  },
  {
   "cell_type": "code",
   "execution_count": null,
   "id": "bb2858ea-9883-4e00-bcbc-fd083299ceb9",
   "metadata": {},
   "outputs": [],
   "source": [
    "number = int(input(\"Enter a number: \"))\n",
    "count = 0\n",
    "\n",
    "while number > 10:\n",
    "    number = number // 3\n",
    "    count += 1\n",
    "\n",
    "print(\"The number can be divided by 3\", count, \"times before it is less than or equal to 10.\")"
   ]
  },
  {
   "cell_type": "markdown",
   "id": "123f5751-3648-4e48-b015-4c1e426cd9d5",
   "metadata": {},
   "source": [
    "### 5. Why and When to Use while Loop in Python give a detailed description with example"
   ]
  },
  {
   "cell_type": "markdown",
   "id": "6bef5a76-3c08-491d-834c-b9cbc63a0ff0",
   "metadata": {},
   "source": [
    "while condition:\n",
    "    # code will be executed while the condition is true"
   ]
  },
  {
   "cell_type": "code",
   "execution_count": null,
   "id": "9713439d-3e5e-43e8-995a-02538873c0cb",
   "metadata": {},
   "outputs": [],
   "source": [
    "numbers = [3, 8, 12, 15, 20, 25, 28]\n",
    "\n",
    "i = 0\n",
    "while i < len(numbers):\n",
    "    if numbers[i] % 5 == 0:\n",
    "        print(numbers[i])\n",
    "        break\n",
    "    i += 1"
   ]
  },
  {
   "cell_type": "markdown",
   "id": "26f6a66d-aaa5-410f-892d-9d4d11785de4",
   "metadata": {},
   "source": [
    "### 6. use nested while loop to print 3 different pattern."
   ]
  },
  {
   "cell_type": "markdown",
   "id": "5bfba11d-3547-4d25-a82e-0a4140da474e",
   "metadata": {},
   "source": [
    "nested loop :- starting loop in the body of loop is said to be nested loop\n",
    "in while loop three things are importent initialization, condition, increment/decrement."
   ]
  },
  {
   "cell_type": "code",
   "execution_count": 2,
   "id": "63a1f3f5-33f6-456b-9ff2-a5c97b484d84",
   "metadata": {},
   "outputs": [
    {
     "name": "stdout",
     "output_type": "stream",
     "text": [
      "\n",
      "1\n",
      "12\n",
      "123\n",
      "1234\n",
      "12345\n",
      "123456\n",
      "1234567\n",
      "12345678\n",
      "123456789\n",
      "12345678910\n"
     ]
    }
   ],
   "source": [
    "k = 0\n",
    "while k<11:\n",
    "    j=1\n",
    "    while j<=k:\n",
    "        print(j, end=\"\")\n",
    "        j += 1\n",
    "    print()\n",
    "    k += 1"
   ]
  },
  {
   "cell_type": "code",
   "execution_count": 3,
   "id": "2245143b-e1c5-4856-90ea-edecdec1ded0",
   "metadata": {},
   "outputs": [
    {
     "name": "stdout",
     "output_type": "stream",
     "text": [
      "hello world\n",
      "hello world\n",
      "hello world\n",
      "hello world\n",
      "hello world\n"
     ]
    }
   ],
   "source": [
    "i =1\n",
    "while i<=5:\n",
    "    j = 1\n",
    "    print(\"hello \", end=\"\")\n",
    "    while j<= 1:\n",
    "        print(\"world\")\n",
    "        j = j+1\n",
    "    i =i+1"
   ]
  },
  {
   "cell_type": "code",
   "execution_count": 4,
   "id": "366159e3-d28e-4219-b447-4e070e469d9c",
   "metadata": {},
   "outputs": [
    {
     "name": "stdout",
     "output_type": "stream",
     "text": [
      "1\n",
      "2\n",
      "3\n",
      "4\n",
      "1\n",
      "2\n",
      "3\n",
      "4\n",
      "1\n",
      "2\n",
      "3\n",
      "4\n",
      "1\n",
      "2\n",
      "3\n",
      "4\n"
     ]
    }
   ],
   "source": [
    "i = 1\n",
    "while i<5:\n",
    "    j=1\n",
    "    while j<5:\n",
    "        print(j)\n",
    "        j=j+1\n",
    "    i = i+1"
   ]
  },
  {
   "cell_type": "markdown",
   "id": "4f153cd7-6b12-4f11-85d0-518fa4b28f23",
   "metadata": {},
   "source": [
    "### 7. Reverse a while loop to display numbers from 10 to 1."
   ]
  },
  {
   "cell_type": "code",
   "execution_count": 1,
   "id": "cae9ddb0-e789-493e-87ab-eaed018ad780",
   "metadata": {},
   "outputs": [
    {
     "name": "stdout",
     "output_type": "stream",
     "text": [
      "10\n",
      "9\n",
      "8\n",
      "7\n",
      "6\n",
      "5\n",
      "4\n",
      "3\n",
      "2\n",
      "1\n"
     ]
    }
   ],
   "source": [
    "i = 10\n",
    "\n",
    "\n",
    "while i >= 1:\n",
    "    print(i)\n",
    "    i -= 1\n"
   ]
  },
  {
   "cell_type": "code",
   "execution_count": 1,
   "id": "2bd76604-9097-4cb6-aa07-899c610fd7e6",
   "metadata": {},
   "outputs": [],
   "source": [
    "# for number in range(10, 0, -1): \n",
    "#     print(number) \n",
    "    \n",
    "num = 10\n",
    "while num >= 1:\n",
    "    print(num)\n",
    "    num -= 1"
   ]
  },
  {
   "cell_type": "markdown",
   "id": "ddb2254b-0401-4f95-b9a9-4c903c0923ef",
   "metadata": {},
   "source": [
    "### 8. Reverse a while loop to display numbers from 10 to 1"
   ]
  },
  {
   "cell_type": "code",
   "execution_count": null,
   "id": "53bb9236-11b4-40b3-bd94-21458994b294",
   "metadata": {},
   "outputs": [],
   "source": [
    "num = 10\n",
    "while num >=1:\n",
    "    print(num)\n",
    "    num -=1"
   ]
  },
  {
   "cell_type": "code",
   "execution_count": null,
   "id": "49c29673-37c2-4acb-8feb-42f1bbb8c821",
   "metadata": {},
   "outputs": [],
   "source": []
  }
 ],
 "metadata": {
  "kernelspec": {
   "display_name": "Python 3 (ipykernel)",
   "language": "python",
   "name": "python3"
  },
  "language_info": {
   "codemirror_mode": {
    "name": "ipython",
    "version": 3
   },
   "file_extension": ".py",
   "mimetype": "text/x-python",
   "name": "python",
   "nbconvert_exporter": "python",
   "pygments_lexer": "ipython3",
   "version": "3.10.8"
  }
 },
 "nbformat": 4,
 "nbformat_minor": 5
}
