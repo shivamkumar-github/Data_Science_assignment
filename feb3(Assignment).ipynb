{
 "cells": [
  {
   "cell_type": "markdown",
   "id": "c0832325-c538-415b-9c10-48bd1a98eaf2",
   "metadata": {},
   "source": [
    "## Assignment feb3 (functions)"
   ]
  },
  {
   "cell_type": "markdown",
   "id": "567edc51-3d5c-4dac-8c16-3f7cc3cc7af0",
   "metadata": {},
   "source": [
    "### Q1. Which keyword is used to create a function? Create a function to return a list of odd numbers in the range of 1 to 25."
   ]
  },
  {
   "cell_type": "markdown",
   "id": "a5ed7b15-fbf8-4f05-945e-4a4b33397a8d",
   "metadata": {},
   "source": [
    "we use def keyword to create a function."
   ]
  },
  {
   "cell_type": "code",
   "execution_count": 7,
   "id": "a433f972-3d92-4309-9b28-d44258eac9c5",
   "metadata": {},
   "outputs": [],
   "source": [
    "for i in range(1,25):\n",
    "    print(i)"
   ]
  },
  {
   "cell_type": "code",
   "execution_count": 14,
   "id": "63c35f5f-da23-41e4-a912-5591a7f6603f",
   "metadata": {},
   "outputs": [
    {
     "data": {
      "text/plain": [
       "[1, 3, 5, 7, 9, 11, 13, 15, 17, 19, 21, 23]"
      ]
     },
     "execution_count": 14,
     "metadata": {},
     "output_type": "execute_result"
    }
   ],
   "source": [
    "l = range(1,25)\n",
    "def Ret(a):\n",
    "    n = []\n",
    "    for i in a:\n",
    "        if i % 2 != 0 :\n",
    "            n.append(i)\n",
    "    return n\n",
    "Ret(l)"
   ]
  },
  {
   "cell_type": "markdown",
   "id": "a5953319-f725-448d-949a-1ce18cc841f0",
   "metadata": {},
   "source": [
    "### Q2. Why *args and **kwargs is used in some functions? Create a function each for *args and **kwargs to demonstrate their use."
   ]
  },
  {
   "cell_type": "markdown",
   "id": "1ba0f6ae-630c-474c-ad93-95cfef67ca78",
   "metadata": {},
   "source": [
    "*args is used to pass a variable number of non-keyword arguments to a function. It allows you to pass any number of arguments to the function as a tuple.\n",
    "\n",
    "**kwargs is used to pass a variable number of keyword arguments to a function. It allows you to pass any number of keyword arguments to the function as a dictionary."
   ]
  },
  {
   "cell_type": "code",
   "execution_count": 1,
   "id": "9065c795-1c27-462e-baa5-bfe181ed5ba0",
   "metadata": {},
   "outputs": [
    {
     "data": {
      "text/plain": [
       "((1, 2, 3, 4, 5), 'shivam')"
      ]
     },
     "execution_count": 1,
     "metadata": {},
     "output_type": "execute_result"
    }
   ],
   "source": [
    "def test3(*shiv, a):\n",
    "    return shiv,a\n",
    "test3(1,2,3,4,5, a= \"shivam\")"
   ]
  },
  {
   "cell_type": "code",
   "execution_count": 2,
   "id": "6f1d4047-6519-45a6-8d33-37e2c0df6f27",
   "metadata": {},
   "outputs": [
    {
     "data": {
      "text/plain": [
       "{'a': 'shivam', 'b': 'rai'}"
      ]
     },
     "execution_count": 2,
     "metadata": {},
     "output_type": "execute_result"
    }
   ],
   "source": [
    "def test3(**shiv):\n",
    "    return shiv\n",
    "test3( a= \"shivam\", b=\"rai\")"
   ]
  },
  {
   "cell_type": "markdown",
   "id": "4346d4f9-b795-4d78-868e-0177a61ec806",
   "metadata": {},
   "source": [
    "### Q3. What is an iterator in python? Name the method used to initialise the iterator object and the method used for iteration. Use these methods to print the first five elements of the given list [2, 4, 6, 8, 10, 12, 14, 16, 18, 20]."
   ]
  },
  {
   "cell_type": "markdown",
   "id": "939eed84-ba8d-4e75-9fd2-30b84c82e43b",
   "metadata": {},
   "source": [
    "An iterator in Python is an object that allows us to traverse through a collection of data, such as a list, tuple or dictionary,"
   ]
  },
  {
   "cell_type": "code",
   "execution_count": 9,
   "id": "35f1b092-761c-4872-b8c8-b9c399ce9abe",
   "metadata": {
    "tags": []
   },
   "outputs": [
    {
     "name": "stdout",
     "output_type": "stream",
     "text": [
      "2\n",
      "4\n",
      "6\n",
      "8\n",
      "10\n"
     ]
    }
   ],
   "source": [
    "my_list = [2, 4, 6, 8, 10, 12, 14, 16, 18, 20]\n",
    "my_iter = iter(my_list)\n",
    "for p in range(5):\n",
    "    print(next(my_iter))"
   ]
  },
  {
   "cell_type": "markdown",
   "id": "4f09de39-8000-4f2a-a7e1-0d8b581b8215",
   "metadata": {},
   "source": [
    "### Q4. What is a generator function in python? Why yield keyword is used? Give an example of a generator function."
   ]
  },
  {
   "cell_type": "markdown",
   "id": "b057cf07-cc38-488a-8ae2-5a30aea5615b",
   "metadata": {},
   "source": [
    "A generator function in Python is a type of function that allows you to generate a sequence of values, one at a time, rather than returning them all at once like a regular function."
   ]
  },
  {
   "cell_type": "markdown",
   "id": "61c6ed07-d333-48f8-b565-e6e6d1a93280",
   "metadata": {},
   "source": [
    "The yield keyword is used in generator functions to indicate where the generator should “pause” its execution and return the current value to the caller."
   ]
  },
  {
   "cell_type": "code",
   "execution_count": 41,
   "id": "41be56e3-4c33-4ff9-9e83-b35ff03a5926",
   "metadata": {},
   "outputs": [
    {
     "name": "stdout",
     "output_type": "stream",
     "text": [
      "0\n",
      "1\n",
      "4\n",
      "9\n",
      "16\n",
      "25\n",
      "36\n",
      "49\n",
      "64\n",
      "81\n"
     ]
    }
   ],
   "source": [
    "def number_generat(n):\n",
    "    i = 0\n",
    "    for i in range(n):\n",
    "        if i < n:\n",
    "            yield i**2   #here define what to do and below define hoe loop should work.\n",
    "            i += 1\n",
    "number_generat(10)\n",
    "for i in number_generat(10):\n",
    "    print(i)"
   ]
  },
  {
   "cell_type": "markdown",
   "id": "f6bcc190-cb5c-43d3-b5e2-186ca558ccdb",
   "metadata": {},
   "source": [
    "### Q5. Create a generator function for prime numbers less than 1000. Use the next() method to print the first 20 prime numbers."
   ]
  },
  {
   "cell_type": "code",
   "execution_count": 46,
   "id": "4e0b924c-16fe-4e94-9192-8ecadf3c42a7",
   "metadata": {},
   "outputs": [
    {
     "name": "stdout",
     "output_type": "stream",
     "text": [
      "1\n",
      "3\n",
      "5\n",
      "7\n",
      "9\n",
      "11\n",
      "13\n",
      "15\n",
      "17\n",
      "19\n"
     ]
    }
   ],
   "source": [
    "def primes(n):\n",
    "    for i in range(n):\n",
    "        if i%2 != 0:\n",
    "            yield i\n",
    "            i += 1\n",
    "for i in primes(20):\n",
    "    print(i)\n"
   ]
  },
  {
   "cell_type": "code",
   "execution_count": null,
   "id": "15dbf26a-d564-4d77-888f-e9d94116a987",
   "metadata": {},
   "outputs": [],
   "source": []
  },
  {
   "cell_type": "code",
   "execution_count": null,
   "id": "8fdba249-45c5-4f0a-95f8-bdcf86aa45f3",
   "metadata": {},
   "outputs": [],
   "source": []
  },
  {
   "cell_type": "code",
   "execution_count": null,
   "id": "64816ba6-337a-43a3-b3f9-6cf42c7566af",
   "metadata": {},
   "outputs": [],
   "source": []
  },
  {
   "cell_type": "code",
   "execution_count": null,
   "id": "ffb88aab-2085-4806-9a07-918c0a8afc6f",
   "metadata": {},
   "outputs": [],
   "source": []
  }
 ],
 "metadata": {
  "kernelspec": {
   "display_name": "Python 3 (ipykernel)",
   "language": "python",
   "name": "python3"
  },
  "language_info": {
   "codemirror_mode": {
    "name": "ipython",
    "version": 3
   },
   "file_extension": ".py",
   "mimetype": "text/x-python",
   "name": "python",
   "nbconvert_exporter": "python",
   "pygments_lexer": "ipython3",
   "version": "3.10.8"
  }
 },
 "nbformat": 4,
 "nbformat_minor": 5
}
