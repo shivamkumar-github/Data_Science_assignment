{
 "cells": [
  {
   "cell_type": "markdown",
   "id": "e315572b-ede9-44c2-8152-7976004ef1da",
   "metadata": {},
   "source": [
    "# Assignment\n"
   ]
  },
  {
   "cell_type": "markdown",
   "id": "63b82716-94a5-4d04-b29a-156a865cdb55",
   "metadata": {},
   "source": [
    "### Q1. What are the characteristics of the tuples? Is tuple immutable?"
   ]
  },
  {
   "cell_type": "markdown",
   "id": "851ca744-6c36-41b5-90a7-d6b94507f294",
   "metadata": {},
   "source": [
    "Immutable: Tuples are immutable, which means that once a tuple is created, its contents cannot be changed. You can't add, remove, or modify elements in a tuple.\n",
    "\n",
    "Ordered: Tuples are ordered, which means that the elements in a tuple are in a specific order, and you can access them by their index.\n",
    "\n",
    "Heterogeneous: Tuples can contain elements of different data types, such as integers, floats, strings, and other tuples.\n",
    "\n",
    "Hashable: Tuples are hashable, which means that they can be used as keys in dictionaries or as elements in sets.\n",
    "\n",
    "Yes, tuple is immutable."
   ]
  },
  {
   "cell_type": "markdown",
   "id": "b9b750fa-18e4-4f7b-abb5-6613a1ec34bc",
   "metadata": {},
   "source": [
    "### Q2. What are the two tuple methods in python? Give an example of each method. Give a reason why tuples have only two in-built methods as compared to Lists."
   ]
  },
  {
   "cell_type": "markdown",
   "id": "c4c20aa5-19b0-4d08-813a-d3635d262b38",
   "metadata": {},
   "source": [
    "-> index and count\n",
    "\n",
    "->Examples are given bellow\n",
    "\n",
    "->Tuples have only two in-built methods compared to lists because tuples are immutable, and they are designed to be simple and efficient data structures for storing a fixed collection of values."
   ]
  },
  {
   "cell_type": "code",
   "execution_count": 6,
   "id": "bce88f7a-77d9-4ab9-849b-1bae3b67dc27",
   "metadata": {},
   "outputs": [
    {
     "name": "stdout",
     "output_type": "stream",
     "text": [
      "2\n",
      "0\n"
     ]
    }
   ],
   "source": [
    "tuple1= (1,2,3,4,5,4,3,2,33)\n",
    "count_tuple= tuple1.count(3) #count of 3 in tuple1\n",
    "print(count_tuple)\n",
    "\n",
    "\n",
    "\n",
    "tuple2=(1,\"shivam\",(23,2,3,4,5,90))\n",
    "index_tuple=tuple2.index(1) #index of 1 in tuple2\n",
    "print(index_tuple)"
   ]
  },
  {
   "cell_type": "markdown",
   "id": "3fd89ce2-9d27-4d37-aa86-4c94a33abfc3",
   "metadata": {},
   "source": [
    "### Q3. Which collection datatypes in python do not allow duplicate items? Write a code using a set to remove duplicates from the given list."
   ]
  },
  {
   "cell_type": "markdown",
   "id": "d2d4e691-18ca-497c-91e5-81136b953ca5",
   "metadata": {},
   "source": [
    "The collection datatype in Python that does not allow duplicate items is a set. A set is an unordered collection of unique elements."
   ]
  },
  {
   "cell_type": "code",
   "execution_count": 7,
   "id": "428406d5-1ba4-4abe-becc-32aec97b39d1",
   "metadata": {},
   "outputs": [
    {
     "name": "stdout",
     "output_type": "stream",
     "text": [
      "{1, 2, 3, 4, 6, 7}\n"
     ]
    }
   ],
   "source": [
    "set1={1,2,3,3,3,3,3,3,3,3,3,3,3,3,3,4,6,6,7}\n",
    "print(set1)"
   ]
  },
  {
   "cell_type": "code",
   "execution_count": 10,
   "id": "ecd807d9-9145-4752-adf0-a519e5b686fe",
   "metadata": {},
   "outputs": [
    {
     "data": {
      "text/plain": [
       "{1, 2, 3, 4}"
      ]
     },
     "execution_count": 10,
     "metadata": {},
     "output_type": "execute_result"
    }
   ],
   "source": [
    "# List = [1, 1, 1, 2, 1, 3, 1, 4, 2, 1, 2, 2, 2, 3, 2, 4, 3, 1, 3, 2, 3, 3, 3, 4, 4, 1, 4, 2, 4, 3, 4, 4]\n",
    "List = [1, 1, 1, 2, 1, 3, 1, 4, 2, 1, 2, 2, 2, 3, 2, 4, 3, 1, 3, 2, 3, 3, 3, 4, 4, 1, 4, 2, 4, 3, 4, 4]\n",
    "set(List)\n"
   ]
  },
  {
   "cell_type": "markdown",
   "id": "777c77ce-67e7-4e59-96c9-2b75ed4e1964",
   "metadata": {},
   "source": [
    "### Q4. Explain the difference between the union() and update() methods for a set. Give an example of each method."
   ]
  },
  {
   "cell_type": "markdown",
   "id": "f1a8507b-aeac-43cc-ad6a-7c3eb7be85fb",
   "metadata": {},
   "source": [
    " The different is simple both methods do the same thing but update also do changes in previous set"
   ]
  },
  {
   "cell_type": "code",
   "execution_count": 2,
   "id": "527ac073-ca85-4380-a783-6e081801b804",
   "metadata": {},
   "outputs": [
    {
     "name": "stdout",
     "output_type": "stream",
     "text": [
      "{1, 2, 3, 4, 5, 6, 7, 8, 9}\n",
      "{1, 2, 3, 4, 5}\n"
     ]
    }
   ],
   "source": [
    "set1 = {1,2,3,4,5}\n",
    "set2 = {5,6,7,8,9}\n",
    "print(set1.union(set2))\n",
    "print(set1)"
   ]
  },
  {
   "cell_type": "code",
   "execution_count": 5,
   "id": "87bc5efa-c0e7-446a-a21d-0ae75e1a0253",
   "metadata": {},
   "outputs": [
    {
     "name": "stdout",
     "output_type": "stream",
     "text": [
      "{1, 2, 3, 4, 5}\n",
      "None\n",
      "{1, 2, 3, 4, 5, 6, 7, 8, 9}\n"
     ]
    }
   ],
   "source": [
    "set1 = {1,2,3,4,5}\n",
    "set2 = {5,6,7,8,9}\n",
    "print(set1)\n",
    "print(set1.update(set2))\n",
    "print(set1)"
   ]
  },
  {
   "cell_type": "markdown",
   "id": "e40e969f-5281-4dfa-9462-5da9f148ec86",
   "metadata": {},
   "source": [
    "### Q5. What is a dictionary? Give an example. Also, state whether a dictionary is ordered or unordered."
   ]
  },
  {
   "cell_type": "markdown",
   "id": "2c796927-5780-4df3-af5b-30bb281a435a",
   "metadata": {},
   "source": [
    "In Python, a dictionary is a collection of key-value pairs that is used to store and retrieve data in an efficient way."
   ]
  },
  {
   "cell_type": "code",
   "execution_count": 7,
   "id": "efa3fa6e-d2d3-4a88-95a7-d4549db97248",
   "metadata": {},
   "outputs": [
    {
     "data": {
      "text/plain": [
       "{'name': 'Shivam', 'age': 98, 'location': 'paatal_lok'}"
      ]
     },
     "execution_count": 7,
     "metadata": {},
     "output_type": "execute_result"
    }
   ],
   "source": [
    "My_info = {'name': 'Shivam', 'age': 98, 'location': 'paatal_lok'}\n",
    "My_info"
   ]
  },
  {
   "cell_type": "markdown",
   "id": "542a27e6-45c6-4850-9448-81068057dda1",
   "metadata": {},
   "source": [
    "Dictionaries in Python are unordered, which means that the key-value pairs do not have a specific order."
   ]
  },
  {
   "cell_type": "markdown",
   "id": "7f525d9e-ba13-4310-bd48-54e3f5ffb6a8",
   "metadata": {},
   "source": [
    "### Q6. Can we create a nested dictionary? If so, please give an example by creating a simple one-level nested dictionary."
   ]
  },
  {
   "cell_type": "markdown",
   "id": "17a6d027-9043-45c0-8a80-d1a2a3cc69cb",
   "metadata": {},
   "source": [
    "Yes, we can create a nested dictionary in Python"
   ]
  },
  {
   "cell_type": "code",
   "execution_count": 13,
   "id": "e701cdbe-33c2-4117-b5c0-c2f66dccd2e3",
   "metadata": {},
   "outputs": [
    {
     "data": {
      "text/plain": [
       "{'name': 'John Doe',\n",
       " 'age': 30,\n",
       " 'address': {'street': '123 Main St',\n",
       "  'city': 'New York',\n",
       "  'state': 'NY',\n",
       "  'zipcode': '10001'}}"
      ]
     },
     "execution_count": 13,
     "metadata": {},
     "output_type": "execute_result"
    }
   ],
   "source": [
    "employee = {\n",
    "    'name': 'John Doe',\n",
    "    'age': 30,\n",
    "    'address': {\n",
    "        'street': '123 Main St',\n",
    "        'city': 'New York',\n",
    "        'state': 'NY',\n",
    "        'zipcode': '10001'\n",
    "    }\n",
    "}\n",
    "employee"
   ]
  },
  {
   "cell_type": "markdown",
   "id": "008b45b5-fff8-4b26-87e8-df28b3dc74c6",
   "metadata": {},
   "source": [
    "### Q7. Using setdefault() method, create key named topics in the given dictionary and also add the value of the key as this list ['Python', 'Machine Learning’, 'Deep Learning']"
   ]
  },
  {
   "cell_type": "markdown",
   "id": "6a592233-3d9f-4801-a508-5d2b2bc56744",
   "metadata": {},
   "source": [
    "setdefault() is a Python dictionary method that returns the value of a specified key. If the key does not exist, setdefault() adds the key to the dictionary with a default value, which can be specified as a second argument to the method. "
   ]
  },
  {
   "cell_type": "code",
   "execution_count": 3,
   "id": "31e50212-d4c9-4212-8424-3b6db7dc360e",
   "metadata": {},
   "outputs": [
    {
     "data": {
      "text/plain": [
       "{'language': 'Python',\n",
       " 'course': 'Data Science Masters',\n",
       " 'topics': ['Python', 'Machine Learning', 'Deep Learning']}"
      ]
     },
     "execution_count": 3,
     "metadata": {},
     "output_type": "execute_result"
    }
   ],
   "source": [
    "dict1 = {'language' : 'Python', 'course': 'Data Science Masters'}\n",
    "dict1.setdefault('topics', ['Python', 'Machine Learning' ,'Deep Learning'] )\n",
    "dict1"
   ]
  },
  {
   "cell_type": "markdown",
   "id": "ffcd4957-c8e1-4802-81f2-c1348f6bf426",
   "metadata": {},
   "source": [
    "### Q8. What are the three view objects in dictionaries? Use the three in-built methods in python to display these three view objects for the given dictionary. dict1 = {'Sport': 'Cricket' , 'Teams': ['India', 'Australia', 'England', 'South Africa', 'Sri Lanka', 'New Zealand']}"
   ]
  },
  {
   "cell_type": "markdown",
   "id": "0a7be7c5-056b-4dff-8c29-206fd3a326d4",
   "metadata": {},
   "source": [
    "keys() : returns a view object of the keys in the dictionary\n",
    "\n",
    "values() : returns a view object of the values in the dictionary\n",
    "\n",
    "items() : returns a view object of the key-value pairs in the dictionary"
   ]
  },
  {
   "cell_type": "code",
   "execution_count": 6,
   "id": "9cc1e43a-839f-4c26-b0c5-5b70b98b99c5",
   "metadata": {},
   "outputs": [
    {
     "name": "stdout",
     "output_type": "stream",
     "text": [
      "dict_keys(['Sport', 'Teams'])\n",
      "dict_values(['Cricket', ['India', 'Australia', 'England', 'South Africa', 'Sri Lanka', 'New Zealand']])\n",
      "dict_items([('Sport', 'Cricket'), ('Teams', ['India', 'Australia', 'England', 'South Africa', 'Sri Lanka', 'New Zealand'])])\n"
     ]
    }
   ],
   "source": [
    "dict1 = {'Sport': 'Cricket' , 'Teams': ['India', 'Australia', 'England', 'South Africa', 'Sri Lanka', 'New Zealand']}\n",
    "print(dict1.keys())\n",
    "print(dict1.values())\n",
    "print(dict1.items())"
   ]
  },
  {
   "cell_type": "code",
   "execution_count": null,
   "id": "65851d33-31c8-44be-a74d-c90405e9bc81",
   "metadata": {},
   "outputs": [],
   "source": []
  }
 ],
 "metadata": {
  "kernelspec": {
   "display_name": "Python 3 (ipykernel)",
   "language": "python",
   "name": "python3"
  },
  "language_info": {
   "codemirror_mode": {
    "name": "ipython",
    "version": 3
   },
   "file_extension": ".py",
   "mimetype": "text/x-python",
   "name": "python",
   "nbconvert_exporter": "python",
   "pygments_lexer": "ipython3",
   "version": "3.10.8"
  }
 },
 "nbformat": 4,
 "nbformat_minor": 5
}
