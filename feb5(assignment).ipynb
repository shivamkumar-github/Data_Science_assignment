{
 "cells": [
  {
   "cell_type": "markdown",
   "id": "4346b372-c6a1-4649-9b1e-3bc4f9da8144",
   "metadata": {},
   "source": [
    "### Q1. Explain Class and Object with respect to Object-Oriented Programming. Give a suitable example."
   ]
  },
  {
   "cell_type": "markdown",
   "id": "b6c85417-706c-4140-a2bb-774af64b84f7",
   "metadata": {},
   "source": [
    "In Object-Oriented Programming (OOP), a class is a blueprint or a template for creating objects, while an object is an instance of a class that encapsulates its own set of data and behavior."
   ]
  },
  {
   "cell_type": "code",
   "execution_count": 13,
   "id": "6181522f-d964-4d6b-ab24-fdd91be0e5d9",
   "metadata": {},
   "outputs": [
    {
     "name": "stdout",
     "output_type": "stream",
     "text": [
      "Python\n",
      "('Python', 'cricket')\n"
     ]
    }
   ],
   "source": [
    "class Shivam:\n",
    "    def __init__(self, cource, hobbies):\n",
    "        \n",
    "        self.cource = cource\n",
    "        self.hobbies = hobbies\n",
    "    \n",
    "    def return_all(self):\n",
    "        return self.cource, self.hobbies\n",
    "# class end here.    \n",
    "mohit = Shivam(\"Python\", \"cricket\")\n",
    "print(mohit.cource)\n",
    "print(mohit.return_all())"
   ]
  },
  {
   "cell_type": "markdown",
   "id": "2fd18b69-e56d-4bb3-9dca-42da9f756c79",
   "metadata": {},
   "source": [
    "In the given code, there is a class named \"Shivam\" that has two instance variables named \"course\" and \"hobbies\". \n",
    "The class also has a method named \"return_all\" which returns the values of the two instance variables."
   ]
  },
  {
   "cell_type": "markdown",
   "id": "a30c2d13-8a29-4417-95e9-a3938ed4899c",
   "metadata": {},
   "source": [
    "### Q2. Name the four pillars of OOPs."
   ]
  },
  {
   "cell_type": "markdown",
   "id": "d605784a-fa2e-47a8-b91e-2cf7797fbf7a",
   "metadata": {},
   "source": [
    "Encapsulation: Encapsulation is the process of hiding data and methods related to that data within a class to protect it from outside access.\n",
    "\n",
    "Abstraction: Abstraction is the process of simplifying complex real-world problems by modeling them using objects and classes.\n",
    "\n",
    "Inheritance: Inheritance is the process by which one class can inherit properties and methods from another class, enabling code reuse and making the code more manageable.\n",
    "\n",
    "Polymorphism: Polymorphism is the ability of an object to take on many forms. It allows objects of different classes to be treated as if they were objects of the same class, making code more flexible and easier to maintain."
   ]
  },
  {
   "cell_type": "markdown",
   "id": "3cb227df-5478-4a35-a99d-b09178d3de00",
   "metadata": {},
   "source": [
    "### Q3. Explain why the __init__() function is used. Give a suitable example."
   ]
  },
  {
   "cell_type": "markdown",
   "id": "d8b25836-d6c3-4230-83fc-4d7f7bc8b9d5",
   "metadata": {},
   "source": [
    "The __init__() function is a special method in Python classes that is called when an object of the class is created. \n",
    "It is commonly used to set the object's attribute"
   ]
  },
  {
   "cell_type": "code",
   "execution_count": 18,
   "id": "084ff4e2-c24f-424b-afb2-e1cc11e6214b",
   "metadata": {},
   "outputs": [],
   "source": [
    "class Rectangle:\n",
    "    def __init__(self, width, height):\n",
    "        self.width = width\n",
    "        self.height = height\n",
    "\n",
    "    def area(self):\n",
    "        return self.width * self.height\n"
   ]
  },
  {
   "cell_type": "code",
   "execution_count": 22,
   "id": "36ea2ddc-4003-4cb4-ab1e-6e3b27425abf",
   "metadata": {},
   "outputs": [
    {
     "data": {
      "text/plain": [
       "4984"
      ]
     },
     "execution_count": 22,
     "metadata": {},
     "output_type": "execute_result"
    }
   ],
   "source": [
    "Rectangle1 = Rectangle(56,89)\n",
    "Rectangle1.area()"
   ]
  },
  {
   "cell_type": "markdown",
   "id": "0533e4ed-3dab-482d-8149-2bd942141fbd",
   "metadata": {},
   "source": [
    "### Q4. Why self is used in OOPs?"
   ]
  },
  {
   "cell_type": "markdown",
   "id": "be5c256f-1fe3-4458-9a29-87dff77597fe",
   "metadata": {},
   "source": [
    "self is used in class as locator of variables in class.\n",
    "The use of self is important because it allows different instances of the same class to have their own separate data.\n",
    "Without self, all instances of a class would share the same data, making it impossible to distinguish between them."
   ]
  },
  {
   "cell_type": "markdown",
   "id": "919a9945-aac2-496e-a615-81cd42b3309d",
   "metadata": {},
   "source": [
    "### Q5. What is inheritance? Give an example for each type of inheritance."
   ]
  },
  {
   "cell_type": "markdown",
   "id": "d26c923f-f797-4c35-b230-837c7e9d2003",
   "metadata": {},
   "source": [
    "There are six types of inheritance in object-oriented programming:\n",
    "\n",
    "\n",
    "\n",
    "Single Inheritance\n",
    "\n",
    "Multilevel Inheritance\n",
    "\n",
    "Hierarchical Inheritance\n",
    "\n",
    "Multiple Inheritance\n",
    "\n",
    "Hybrid Inheritance\n",
    "\n",
    "Multipath Inheritance (not supported in Python)"
   ]
  },
  {
   "cell_type": "markdown",
   "id": "c455bde8-2bf6-4c49-90a9-6f3b1d1905fa",
   "metadata": {},
   "source": [
    "Single Inheritance: Single inheritance is a type of inheritance in which a derived class inherits the properties and methods of a single base class. example:\n",
    "In this example, the Dog class is derived from the Animal class. The Dog class inherits the properties and methods of the Animal class, such as the name and color attributes and the eat() method."
   ]
  },
  {
   "cell_type": "code",
   "execution_count": 1,
   "id": "a211db8e-7a08-4d70-9f9e-31a694a550c0",
   "metadata": {},
   "outputs": [],
   "source": [
    "class Animal:\n",
    "    def __init__(self, name, color):\n",
    "        self.name = name\n",
    "        self.color = color\n",
    "\n",
    "    def eat(self):\n",
    "        print(f\"{self.name} is eating.\")\n",
    "\n",
    "class Dog(Animal):\n",
    "    def bark(self):\n",
    "        print(\"Woof! Woof!\")\n"
   ]
  },
  {
   "cell_type": "markdown",
   "id": "17584cab-46a4-4ab6-b217-0e6422d7da4b",
   "metadata": {},
   "source": [
    "Multilevel Inheritance: Multilevel inheritance is a type of inheritance in which a derived class is created from a base class, which is itself derived from another base class. Here’s an example:\n",
    "In this example, the Bulldog class is derived from the Dog class, which is itself derived from the Animal class. The Bulldog class inherits the properties and methods of both the Dog and Animal classes."
   ]
  },
  {
   "cell_type": "code",
   "execution_count": 2,
   "id": "5978ddaf-346c-46bc-92cf-146413998f0e",
   "metadata": {},
   "outputs": [],
   "source": [
    "class Animal:\n",
    "    def __init__(self, name, color):\n",
    "        self.name = name\n",
    "        self.color = color\n",
    "\n",
    "    def eat(self):\n",
    "        print(f\"{self.name} is eating.\")\n",
    "\n",
    "class Dog(Animal):\n",
    "    def bark(self):\n",
    "        print(\"Woof! Woof!\")\n",
    "\n",
    "class Bulldog(Dog):\n",
    "    def bark_loudly(self):\n",
    "        print(\"ROOF! ROOF!\")"
   ]
  },
  {
   "cell_type": "markdown",
   "id": "ed30d3c8-00b6-4fef-99a3-ad271e646de8",
   "metadata": {},
   "source": [
    "Hierarchical Inheritance: Hierarchical inheritance is a type of inheritance in which multiple derived classes inherit from a single base class. Here’s an example:\n",
    "In this example, both the Dog and Cat classes inherit from the Animal class. The Dog class has a bark() method, while the Cat class has a meow() method."
   ]
  },
  {
   "cell_type": "code",
   "execution_count": null,
   "id": "53bf415d-cff7-4974-9345-7b1de3d0c7c6",
   "metadata": {},
   "outputs": [],
   "source": [
    "class Animal:\n",
    "    def __init__(self, name, color):\n",
    "        self.name = name\n",
    "        self.color = color\n",
    "\n",
    "    def eat(self):\n",
    "        print(f\"{self.name} is eating.\")\n",
    "\n",
    "class Dog(Animal):\n",
    "    def bark(self):\n",
    "        print(\"Woof! Woof!\")\n",
    "\n",
    "class Cat(Animal):\n",
    "    def meow(self):\n",
    "        print(\"Meow! Meow!\")\n"
   ]
  },
  {
   "cell_type": "markdown",
   "id": "6bd2f335-1e43-4664-af5e-1cad18c1e000",
   "metadata": {},
   "source": [
    "Multiple Inheritance: Multiple inheritance is a type of inheritance in which a derived class inherits properties and methods from multiple base classes. Here’s an example:\n"
   ]
  },
  {
   "cell_type": "code",
   "execution_count": null,
   "id": "1a0e7fb2-6cca-4c30-9257-d5c7334924fe",
   "metadata": {},
   "outputs": [],
   "source": []
  },
  {
   "cell_type": "code",
   "execution_count": null,
   "id": "b8366519-2430-4418-bd64-bc37d991da53",
   "metadata": {},
   "outputs": [],
   "source": []
  }
 ],
 "metadata": {
  "kernelspec": {
   "display_name": "Python 3 (ipykernel)",
   "language": "python",
   "name": "python3"
  },
  "language_info": {
   "codemirror_mode": {
    "name": "ipython",
    "version": 3
   },
   "file_extension": ".py",
   "mimetype": "text/x-python",
   "name": "python",
   "nbconvert_exporter": "python",
   "pygments_lexer": "ipython3",
   "version": "3.10.8"
  }
 },
 "nbformat": 4,
 "nbformat_minor": 5
}
