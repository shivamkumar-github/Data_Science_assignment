{
 "cells": [
  {
   "cell_type": "markdown",
   "id": "b33c5514-1f17-4353-876f-2190a79b3998",
   "metadata": {},
   "source": [
    "###  1.Who developed Python Programming Language? "
   ]
  },
  {
   "cell_type": "markdown",
   "id": "e0ea45c5-eba5-46ce-8458-708e6c5ba5f3",
   "metadata": {},
   "source": [
    "Guido van Rossum"
   ]
  },
  {
   "cell_type": "markdown",
   "id": "d7519609-2a12-47a3-bd68-9bd22e385b37",
   "metadata": {},
   "source": [
    "### 2. Which type of Programming does Python support? "
   ]
  },
  {
   "cell_type": "markdown",
   "id": "6ca96494-01ae-40ce-864f-04728906d2a6",
   "metadata": {},
   "source": [
    "Object-oriented programming, structured programming, functional programming and aspect-oriented programming."
   ]
  },
  {
   "cell_type": "markdown",
   "id": "3b681cab-56af-4ed2-a3f1-f4e30522cbe7",
   "metadata": {},
   "source": [
    "### 3. Is Python case sensitive when dealing with identifiers? \n"
   ]
  },
  {
   "cell_type": "markdown",
   "id": "10b7d750-4f08-4e30-a747-d5c9e0175858",
   "metadata": {},
   "source": [
    "Yes, Python is case sensitive when dealing with identifiers.\n"
   ]
  },
  {
   "cell_type": "markdown",
   "id": "f0f60525-a2ef-4b65-a05d-3303cc07388b",
   "metadata": {},
   "source": [
    "### 4. What is the correct extension of the Python file? "
   ]
  },
  {
   "cell_type": "markdown",
   "id": "c91900c8-f3aa-47b0-bc0d-57fcf5f0f908",
   "metadata": {},
   "source": [
    "The correct extension of the Python file is \".py\"."
   ]
  },
  {
   "cell_type": "markdown",
   "id": "cea0c847-1dde-42ea-97c1-676e5a6a19ef",
   "metadata": {},
   "source": [
    "### 5. Is Python code compiled or interpreted? "
   ]
  },
  {
   "cell_type": "markdown",
   "id": "f007ea50-b910-40b5-bef3-51c6e47a925b",
   "metadata": {},
   "source": [
    "Python code is interpreted, not compiled."
   ]
  },
  {
   "cell_type": "markdown",
   "id": "e80f24b8-6705-40f4-a4d7-a5edad91a208",
   "metadata": {},
   "source": [
    "### 6. Name a few blocks of code used to define in Python language? "
   ]
  },
  {
   "cell_type": "markdown",
   "id": "78225355-330c-4079-91e2-5ba43357a5ee",
   "metadata": {},
   "source": [
    "The main blocks of code used to define in Python language are functions, classes, and modules."
   ]
  },
  {
   "cell_type": "markdown",
   "id": "9cb98858-674d-4994-b0f1-89fc2e68230b",
   "metadata": {},
   "source": [
    "### 7. State a character used to give single-line comments in Python? "
   ]
  },
  {
   "cell_type": "markdown",
   "id": "4422690b-df76-4335-b3b6-67e172983f93",
   "metadata": {},
   "source": [
    "The \"#\" character is used to give single-line comments in Python."
   ]
  },
  {
   "cell_type": "markdown",
   "id": "1b358936-0c66-4bfc-9b91-2497ad3bd184",
   "metadata": {},
   "source": [
    "### 8. Mention functions which can help us to find the version of python that we are currently working on? \n"
   ]
  },
  {
   "cell_type": "markdown",
   "id": "23b9091c-5150-4a55-b9fe-832a78ef5451",
   "metadata": {},
   "source": [
    "The sys module provides functions that can help us find the version of Python that we are currently working on, such as sys.version and sys.version_info.\n"
   ]
  },
  {
   "cell_type": "markdown",
   "id": "fb76cba5-8618-495c-8b81-ee288e29e8ce",
   "metadata": {},
   "source": [
    "### 9. Python supports the creation of anonymous functions at runtime, using a construct called \n"
   ]
  },
  {
   "cell_type": "markdown",
   "id": "7f2e7537-1a41-4a92-8d1d-3ae3b5c97698",
   "metadata": {},
   "source": [
    "Python supports the creation of anonymous functions at runtime, using a construct called lambda functions.\n"
   ]
  },
  {
   "cell_type": "markdown",
   "id": "51f024ea-5a3f-4c6b-91ba-1cf0d655cb0a",
   "metadata": {},
   "source": [
    "### 10. What does pip stand for python? \n"
   ]
  },
  {
   "cell_type": "markdown",
   "id": "ea61a544-c522-4195-b2ca-c7f387654d42",
   "metadata": {},
   "source": [
    "\"pip\" stands for \"Pip Installs Packages\" and is a package manager for Python.\n"
   ]
  },
  {
   "cell_type": "markdown",
   "id": "e295564b-0caa-499e-9fea-5311ceea1c46",
   "metadata": {},
   "source": [
    "### 11. Mention a few built-in functions in python? \n"
   ]
  },
  {
   "cell_type": "markdown",
   "id": "ffb7a41a-f47a-43f5-b514-f4bf286def64",
   "metadata": {},
   "source": [
    "Some built-in functions in Python include print(), len(), range(), type(), and sum().\n"
   ]
  },
  {
   "cell_type": "markdown",
   "id": "d20fbcaf-6ddf-4095-a857-b5b9f05b8c4a",
   "metadata": {},
   "source": [
    "### 12. What is the maximum possible length of an identifier in Python? \n"
   ]
  },
  {
   "cell_type": "markdown",
   "id": "e3ac85e6-d996-4457-9890-98c648f11b05",
   "metadata": {},
   "source": [
    "The maximum possible length of an identifier in Python is implementation-dependent.\n"
   ]
  },
  {
   "cell_type": "markdown",
   "id": "cd57b80b-2f66-41bc-8757-137ca283f5d4",
   "metadata": {},
   "source": [
    "### 13. What are the benefits of using Python? "
   ]
  },
  {
   "cell_type": "markdown",
   "id": "d3bccbb9-fc95-4c21-805e-3af3cb219ce6",
   "metadata": {},
   "source": [
    "Benefits of using Python include its simplicity, readability, versatility, large standard library, and strong community support."
   ]
  },
  {
   "cell_type": "markdown",
   "id": "8ad6230b-3363-43f5-94f8-21992e1b3e02",
   "metadata": {},
   "source": [
    "### 4. How is memory managed in Python? "
   ]
  },
  {
   "cell_type": "markdown",
   "id": "f4f46146-3874-454b-aefc-5bad4e4d48c6",
   "metadata": {},
   "source": [
    "Memory management in Python is handled automatically through a combination of reference counting and garbage collection."
   ]
  },
  {
   "cell_type": "markdown",
   "id": "e68eae27-119e-4613-a0eb-b24af97da038",
   "metadata": {},
   "source": [
    "### 15. How to install Python on Windows and set path variables?"
   ]
  },
  {
   "cell_type": "markdown",
   "id": "d13c43c7-2d29-42c7-b7f1-8b6176d42e40",
   "metadata": {},
   "source": [
    "To install Python on Windows, you can download the installer from the official Python website and run it. After installation, you can set the path variables by adding the Python installation directory to the PATH environment variable."
   ]
  },
  {
   "cell_type": "markdown",
   "id": "15897b49-127c-4e19-9971-46a488b38138",
   "metadata": {},
   "source": [
    "### 16. Is indentation required in python? "
   ]
  },
  {
   "cell_type": "markdown",
   "id": "f8a5e30a-1cd9-430e-92c6-bc789a6797c4",
   "metadata": {},
   "source": [
    "Yes, indentation is required in Python and is used to indicate the block of code."
   ]
  }
 ],
 "metadata": {
  "kernelspec": {
   "display_name": "R",
   "language": "R",
   "name": "ir"
  },
  "language_info": {
   "codemirror_mode": "r",
   "file_extension": ".r",
   "mimetype": "text/x-r-source",
   "name": "R",
   "pygments_lexer": "r",
   "version": "4.2.2"
  }
 },
 "nbformat": 4,
 "nbformat_minor": 5
}
